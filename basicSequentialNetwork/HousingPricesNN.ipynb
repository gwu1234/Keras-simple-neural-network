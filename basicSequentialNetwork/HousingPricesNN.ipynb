{
 "cells": [
  {
   "cell_type": "markdown",
   "metadata": {
    "colab_type": "text",
    "id": "8Yw1EhxPWWqi"
   },
   "source": [
    "**import dependencies**"
   ]
  },
  {
   "cell_type": "code",
   "execution_count": 7,
   "metadata": {
    "colab": {
     "base_uri": "https://localhost:8080/",
     "height": 35
    },
    "colab_type": "code",
    "executionInfo": {
     "elapsed": 1996,
     "status": "ok",
     "timestamp": 1566847434208,
     "user": {
      "displayName": "Adam Eubanks",
      "photoUrl": "https://lh3.googleusercontent.com/a-/AAuE7mDjwE097euDwbWe6DLsA9jrqnIHFFDD2-2g5QsSdA=s64",
      "userId": "14853192264485050012"
     },
     "user_tz": 240
    },
    "id": "zIuSLCZqWU-5",
    "outputId": "89fcf15f-572d-4bb5-96f4-9a076c6ba97f"
   },
   "outputs": [],
   "source": [
    "import keras\n",
    "import numpy as np\n",
    "import pandas as pd"
   ]
  },
  {
   "cell_type": "markdown",
   "metadata": {
    "colab_type": "text",
    "id": "-uuOjI-VWiRd"
   },
   "source": [
    "**import the data with pandas**"
   ]
  },
  {
   "cell_type": "code",
   "execution_count": 8,
   "metadata": {
    "colab": {
     "base_uri": "https://localhost:8080/",
     "height": 314
    },
    "colab_type": "code",
    "executionInfo": {
     "elapsed": 21330,
     "status": "ok",
     "timestamp": 1566847458415,
     "user": {
      "displayName": "Adam Eubanks",
      "photoUrl": "https://lh3.googleusercontent.com/a-/AAuE7mDjwE097euDwbWe6DLsA9jrqnIHFFDD2-2g5QsSdA=s64",
      "userId": "14853192264485050012"
     },
     "user_tz": 240
    },
    "id": "5yg7lddCy31j",
    "outputId": "5d1ca6ac-a37a-41ed-8d71-dbfa7921ef25"
   },
   "outputs": [
    {
     "data": {
      "text/html": [
       "<div>\n",
       "<style scoped>\n",
       "    .dataframe tbody tr th:only-of-type {\n",
       "        vertical-align: middle;\n",
       "    }\n",
       "\n",
       "    .dataframe tbody tr th {\n",
       "        vertical-align: top;\n",
       "    }\n",
       "\n",
       "    .dataframe thead th {\n",
       "        text-align: right;\n",
       "    }\n",
       "</style>\n",
       "<table border=\"1\" class=\"dataframe\">\n",
       "  <thead>\n",
       "    <tr style=\"text-align: right;\">\n",
       "      <th></th>\n",
       "      <th>YearBuilt</th>\n",
       "      <th>2ndFlrSF</th>\n",
       "      <th>GrLivArea</th>\n",
       "      <th>FullBath</th>\n",
       "      <th>HalfBath</th>\n",
       "      <th>BedroomAbvGr</th>\n",
       "      <th>TotRmsAbvGrd</th>\n",
       "      <th>YrSold</th>\n",
       "      <th>SalePrice</th>\n",
       "    </tr>\n",
       "  </thead>\n",
       "  <tbody>\n",
       "    <tr>\n",
       "      <th>0</th>\n",
       "      <td>2003</td>\n",
       "      <td>854</td>\n",
       "      <td>1710</td>\n",
       "      <td>2</td>\n",
       "      <td>1</td>\n",
       "      <td>3</td>\n",
       "      <td>8</td>\n",
       "      <td>2008</td>\n",
       "      <td>208500</td>\n",
       "    </tr>\n",
       "    <tr>\n",
       "      <th>1</th>\n",
       "      <td>1976</td>\n",
       "      <td>0</td>\n",
       "      <td>1262</td>\n",
       "      <td>2</td>\n",
       "      <td>0</td>\n",
       "      <td>3</td>\n",
       "      <td>6</td>\n",
       "      <td>2007</td>\n",
       "      <td>181500</td>\n",
       "    </tr>\n",
       "    <tr>\n",
       "      <th>2</th>\n",
       "      <td>2001</td>\n",
       "      <td>866</td>\n",
       "      <td>1786</td>\n",
       "      <td>2</td>\n",
       "      <td>1</td>\n",
       "      <td>3</td>\n",
       "      <td>6</td>\n",
       "      <td>2008</td>\n",
       "      <td>223500</td>\n",
       "    </tr>\n",
       "    <tr>\n",
       "      <th>3</th>\n",
       "      <td>1915</td>\n",
       "      <td>756</td>\n",
       "      <td>1717</td>\n",
       "      <td>1</td>\n",
       "      <td>0</td>\n",
       "      <td>3</td>\n",
       "      <td>7</td>\n",
       "      <td>2006</td>\n",
       "      <td>140000</td>\n",
       "    </tr>\n",
       "    <tr>\n",
       "      <th>4</th>\n",
       "      <td>2000</td>\n",
       "      <td>1053</td>\n",
       "      <td>2198</td>\n",
       "      <td>2</td>\n",
       "      <td>1</td>\n",
       "      <td>4</td>\n",
       "      <td>9</td>\n",
       "      <td>2008</td>\n",
       "      <td>250000</td>\n",
       "    </tr>\n",
       "  </tbody>\n",
       "</table>\n",
       "</div>"
      ],
      "text/plain": [
       "   YearBuilt  2ndFlrSF  GrLivArea  FullBath  HalfBath  BedroomAbvGr  \\\n",
       "0       2003       854       1710         2         1             3   \n",
       "1       1976         0       1262         2         0             3   \n",
       "2       2001       866       1786         2         1             3   \n",
       "3       1915       756       1717         1         0             3   \n",
       "4       2000      1053       2198         2         1             4   \n",
       "\n",
       "   TotRmsAbvGrd  YrSold  SalePrice  \n",
       "0             8    2008     208500  \n",
       "1             6    2007     181500  \n",
       "2             6    2008     223500  \n",
       "3             7    2006     140000  \n",
       "4             9    2008     250000  "
      ]
     },
     "execution_count": 8,
     "metadata": {},
     "output_type": "execute_result"
    }
   ],
   "source": [
    "df=pd.read_csv('./HousingPrices.csv')\n",
    "df.head()"
   ]
  },
  {
   "cell_type": "markdown",
   "metadata": {
    "colab_type": "text",
    "id": "TbF22MfYU3TC"
   },
   "source": [
    "**X = every attribute except for the sale price, Y = sale price**"
   ]
  },
  {
   "cell_type": "code",
   "execution_count": 9,
   "metadata": {
    "colab": {},
    "colab_type": "code",
    "id": "IhP7c3LKzFgS"
   },
   "outputs": [],
   "source": [
    "X = df.drop(columns=['SalePrice'])\n",
    "Y = df[['SalePrice']]"
   ]
  },
  {
   "cell_type": "code",
   "execution_count": 6,
   "metadata": {},
   "outputs": [
    {
     "data": {
      "text/html": [
       "<div>\n",
       "<style scoped>\n",
       "    .dataframe tbody tr th:only-of-type {\n",
       "        vertical-align: middle;\n",
       "    }\n",
       "\n",
       "    .dataframe tbody tr th {\n",
       "        vertical-align: top;\n",
       "    }\n",
       "\n",
       "    .dataframe thead th {\n",
       "        text-align: right;\n",
       "    }\n",
       "</style>\n",
       "<table border=\"1\" class=\"dataframe\">\n",
       "  <thead>\n",
       "    <tr style=\"text-align: right;\">\n",
       "      <th></th>\n",
       "      <th>YearBuilt</th>\n",
       "      <th>2ndFlrSF</th>\n",
       "      <th>GrLivArea</th>\n",
       "      <th>FullBath</th>\n",
       "      <th>HalfBath</th>\n",
       "      <th>BedroomAbvGr</th>\n",
       "      <th>TotRmsAbvGrd</th>\n",
       "      <th>YrSold</th>\n",
       "    </tr>\n",
       "  </thead>\n",
       "  <tbody>\n",
       "    <tr>\n",
       "      <th>0</th>\n",
       "      <td>2003</td>\n",
       "      <td>854</td>\n",
       "      <td>1710</td>\n",
       "      <td>2</td>\n",
       "      <td>1</td>\n",
       "      <td>3</td>\n",
       "      <td>8</td>\n",
       "      <td>2008</td>\n",
       "    </tr>\n",
       "    <tr>\n",
       "      <th>1</th>\n",
       "      <td>1976</td>\n",
       "      <td>0</td>\n",
       "      <td>1262</td>\n",
       "      <td>2</td>\n",
       "      <td>0</td>\n",
       "      <td>3</td>\n",
       "      <td>6</td>\n",
       "      <td>2007</td>\n",
       "    </tr>\n",
       "    <tr>\n",
       "      <th>2</th>\n",
       "      <td>2001</td>\n",
       "      <td>866</td>\n",
       "      <td>1786</td>\n",
       "      <td>2</td>\n",
       "      <td>1</td>\n",
       "      <td>3</td>\n",
       "      <td>6</td>\n",
       "      <td>2008</td>\n",
       "    </tr>\n",
       "    <tr>\n",
       "      <th>3</th>\n",
       "      <td>1915</td>\n",
       "      <td>756</td>\n",
       "      <td>1717</td>\n",
       "      <td>1</td>\n",
       "      <td>0</td>\n",
       "      <td>3</td>\n",
       "      <td>7</td>\n",
       "      <td>2006</td>\n",
       "    </tr>\n",
       "    <tr>\n",
       "      <th>4</th>\n",
       "      <td>2000</td>\n",
       "      <td>1053</td>\n",
       "      <td>2198</td>\n",
       "      <td>2</td>\n",
       "      <td>1</td>\n",
       "      <td>4</td>\n",
       "      <td>9</td>\n",
       "      <td>2008</td>\n",
       "    </tr>\n",
       "    <tr>\n",
       "      <th>...</th>\n",
       "      <td>...</td>\n",
       "      <td>...</td>\n",
       "      <td>...</td>\n",
       "      <td>...</td>\n",
       "      <td>...</td>\n",
       "      <td>...</td>\n",
       "      <td>...</td>\n",
       "      <td>...</td>\n",
       "    </tr>\n",
       "    <tr>\n",
       "      <th>1455</th>\n",
       "      <td>1999</td>\n",
       "      <td>694</td>\n",
       "      <td>1647</td>\n",
       "      <td>2</td>\n",
       "      <td>1</td>\n",
       "      <td>3</td>\n",
       "      <td>7</td>\n",
       "      <td>2007</td>\n",
       "    </tr>\n",
       "    <tr>\n",
       "      <th>1456</th>\n",
       "      <td>1978</td>\n",
       "      <td>0</td>\n",
       "      <td>2073</td>\n",
       "      <td>2</td>\n",
       "      <td>0</td>\n",
       "      <td>3</td>\n",
       "      <td>7</td>\n",
       "      <td>2010</td>\n",
       "    </tr>\n",
       "    <tr>\n",
       "      <th>1457</th>\n",
       "      <td>1941</td>\n",
       "      <td>1152</td>\n",
       "      <td>2340</td>\n",
       "      <td>2</td>\n",
       "      <td>0</td>\n",
       "      <td>4</td>\n",
       "      <td>9</td>\n",
       "      <td>2010</td>\n",
       "    </tr>\n",
       "    <tr>\n",
       "      <th>1458</th>\n",
       "      <td>1950</td>\n",
       "      <td>0</td>\n",
       "      <td>1078</td>\n",
       "      <td>1</td>\n",
       "      <td>0</td>\n",
       "      <td>2</td>\n",
       "      <td>5</td>\n",
       "      <td>2010</td>\n",
       "    </tr>\n",
       "    <tr>\n",
       "      <th>1459</th>\n",
       "      <td>1965</td>\n",
       "      <td>0</td>\n",
       "      <td>1256</td>\n",
       "      <td>1</td>\n",
       "      <td>1</td>\n",
       "      <td>3</td>\n",
       "      <td>6</td>\n",
       "      <td>2008</td>\n",
       "    </tr>\n",
       "  </tbody>\n",
       "</table>\n",
       "<p>1460 rows × 8 columns</p>\n",
       "</div>"
      ],
      "text/plain": [
       "      YearBuilt  2ndFlrSF  GrLivArea  FullBath  HalfBath  BedroomAbvGr  \\\n",
       "0          2003       854       1710         2         1             3   \n",
       "1          1976         0       1262         2         0             3   \n",
       "2          2001       866       1786         2         1             3   \n",
       "3          1915       756       1717         1         0             3   \n",
       "4          2000      1053       2198         2         1             4   \n",
       "...         ...       ...        ...       ...       ...           ...   \n",
       "1455       1999       694       1647         2         1             3   \n",
       "1456       1978         0       2073         2         0             3   \n",
       "1457       1941      1152       2340         2         0             4   \n",
       "1458       1950         0       1078         1         0             2   \n",
       "1459       1965         0       1256         1         1             3   \n",
       "\n",
       "      TotRmsAbvGrd  YrSold  \n",
       "0                8    2008  \n",
       "1                6    2007  \n",
       "2                6    2008  \n",
       "3                7    2006  \n",
       "4                9    2008  \n",
       "...            ...     ...  \n",
       "1455             7    2007  \n",
       "1456             7    2010  \n",
       "1457             9    2010  \n",
       "1458             5    2010  \n",
       "1459             6    2008  \n",
       "\n",
       "[1460 rows x 8 columns]"
      ]
     },
     "execution_count": 6,
     "metadata": {},
     "output_type": "execute_result"
    }
   ],
   "source": [
    "X"
   ]
  },
  {
   "cell_type": "markdown",
   "metadata": {
    "colab_type": "text",
    "id": "PcAtTTwPVE_m"
   },
   "source": [
    "**model: three layers of basic Dense, with 8, 8 and 1 neurons**"
   ]
  },
  {
   "cell_type": "code",
   "execution_count": 10,
   "metadata": {
    "colab": {
     "base_uri": "https://localhost:8080/",
     "height": 199
    },
    "colab_type": "code",
    "executionInfo": {
     "elapsed": 568,
     "status": "ok",
     "timestamp": 1566847499692,
     "user": {
      "displayName": "Adam Eubanks",
      "photoUrl": "https://lh3.googleusercontent.com/a-/AAuE7mDjwE097euDwbWe6DLsA9jrqnIHFFDD2-2g5QsSdA=s64",
      "userId": "14853192264485050012"
     },
     "user_tz": 240
    },
    "id": "TYc5ilS11mzU",
    "outputId": "f10fd490-ffba-4092-9fd1-c2eab8c8d3d7"
   },
   "outputs": [],
   "source": [
    "model = keras.models.Sequential()\n",
    "\n",
    "model.add(keras.layers.Dense(8, activation='relu', input_shape=(8,)))\n",
    "model.add(keras.layers.Dense(8, activation='relu'))\n",
    "model.add(keras.layers.Dense(1))\n",
    "\n",
    "model.compile(optimizer='adam', loss='mean_squared_error')"
   ]
  },
  {
   "cell_type": "code",
   "execution_count": 11,
   "metadata": {},
   "outputs": [
    {
     "name": "stdout",
     "output_type": "stream",
     "text": [
      "Model: \"sequential\"\n",
      "_________________________________________________________________\n",
      "Layer (type)                 Output Shape              Param #   \n",
      "=================================================================\n",
      "dense (Dense)                (None, 8)                 72        \n",
      "_________________________________________________________________\n",
      "dense_1 (Dense)              (None, 8)                 72        \n",
      "_________________________________________________________________\n",
      "dense_2 (Dense)              (None, 1)                 9         \n",
      "=================================================================\n",
      "Total params: 153\n",
      "Trainable params: 153\n",
      "Non-trainable params: 0\n",
      "_________________________________________________________________\n"
     ]
    }
   ],
   "source": [
    "model.summary()"
   ]
  },
  {
   "cell_type": "markdown",
   "metadata": {
    "colab_type": "text",
    "id": "zfqX5-xFVJmW"
   },
   "source": [
    "** train model **"
   ]
  },
  {
   "cell_type": "code",
   "execution_count": 12,
   "metadata": {
    "colab": {
     "base_uri": "https://localhost:8080/",
     "height": 1000
    },
    "colab_type": "code",
    "executionInfo": {
     "elapsed": 3001,
     "status": "ok",
     "timestamp": 1566847516255,
     "user": {
      "displayName": "Adam Eubanks",
      "photoUrl": "https://lh3.googleusercontent.com/a-/AAuE7mDjwE097euDwbWe6DLsA9jrqnIHFFDD2-2g5QsSdA=s64",
      "userId": "14853192264485050012"
     },
     "user_tz": 240
    },
    "id": "eI3f8aUS2FJr",
    "outputId": "8969280f-cda4-47a1-b7bf-0d5bd86c9825"
   },
   "outputs": [
    {
     "name": "stdout",
     "output_type": "stream",
     "text": [
      "Epoch 1/10\n",
      "46/46 [==============================] - ETA: 0s - loss: 39259402240.0000WARNING:tensorflow:Early stopping conditioned on metric `val_loss` which is not available. Available metrics are: loss\n",
      "46/46 [==============================] - 0s 1ms/step - loss: 39259402240.0000\n",
      "Epoch 2/10\n",
      " 1/46 [..............................] - ETA: 0s - loss: 31385344000.0000WARNING:tensorflow:Early stopping conditioned on metric `val_loss` which is not available. Available metrics are: loss\n",
      "46/46 [==============================] - 0s 1ms/step - loss: 39093280768.0000\n",
      "Epoch 3/10\n",
      " 1/46 [..............................] - ETA: 0s - loss: 31093944320.0000WARNING:tensorflow:Early stopping conditioned on metric `val_loss` which is not available. Available metrics are: loss\n",
      "46/46 [==============================] - 0s 1ms/step - loss: 39000424448.0000\n",
      "Epoch 4/10\n",
      " 1/46 [..............................] - ETA: 0s - loss: 35006701568.0000WARNING:tensorflow:Early stopping conditioned on metric `val_loss` which is not available. Available metrics are: loss\n",
      "46/46 [==============================] - 0s 992us/step - loss: 38900002816.0000\n",
      "Epoch 5/10\n",
      " 1/46 [..............................] - ETA: 0s - loss: 51003244544.0000WARNING:tensorflow:Early stopping conditioned on metric `val_loss` which is not available. Available metrics are: loss\n",
      "46/46 [==============================] - 0s 1ms/step - loss: 38737752064.0000\n",
      "Epoch 6/10\n",
      " 1/46 [..............................] - ETA: 0s - loss: 35847294976.0000WARNING:tensorflow:Early stopping conditioned on metric `val_loss` which is not available. Available metrics are: loss\n",
      "46/46 [==============================] - 0s 971us/step - loss: 38473621504.0000\n",
      "Epoch 7/10\n",
      " 1/46 [..............................] - ETA: 0s - loss: 26040952832.0000WARNING:tensorflow:Early stopping conditioned on metric `val_loss` which is not available. Available metrics are: loss\n",
      "46/46 [==============================] - 0s 993us/step - loss: 38042595328.0000\n",
      "Epoch 8/10\n",
      " 1/46 [..............................] - ETA: 0s - loss: 33630547968.0000WARNING:tensorflow:Early stopping conditioned on metric `val_loss` which is not available. Available metrics are: loss\n",
      "46/46 [==============================] - 0s 1ms/step - loss: 37337948160.0000\n",
      "Epoch 9/10\n",
      " 1/46 [..............................] - ETA: 0s - loss: 33300094976.0000WARNING:tensorflow:Early stopping conditioned on metric `val_loss` which is not available. Available metrics are: loss\n",
      "46/46 [==============================] - 0s 935us/step - loss: 36239728640.0000\n",
      "Epoch 10/10\n",
      " 1/46 [..............................] - ETA: 0s - loss: 33936803840.0000WARNING:tensorflow:Early stopping conditioned on metric `val_loss` which is not available. Available metrics are: loss\n",
      "46/46 [==============================] - 0s 945us/step - loss: 34638548992.0000\n"
     ]
    },
    {
     "data": {
      "text/plain": [
       "<tensorflow.python.keras.callbacks.History at 0x13f123cd0>"
      ]
     },
     "execution_count": 12,
     "metadata": {},
     "output_type": "execute_result"
    }
   ],
   "source": [
    "model.fit(X, Y, epochs=10, callbacks=[keras.callbacks.EarlyStopping(patience=3)])"
   ]
  },
  {
   "cell_type": "markdown",
   "metadata": {
    "colab_type": "text",
    "id": "OZZ0M0SsViB7"
   },
   "source": [
    "**we need an np.array to predict:**\n",
    "1. YearBuilt\n",
    "2. 2ndFlrSF\n",
    "3. GrLivArea\n",
    "4. FullBath\t\n",
    "5. HalfBath\t\n",
    "6. BedroomAbvGr\t\n",
    "7. TotRmsAbvGrd\t\n",
    "8. YrSold\n",
    "****"
   ]
  },
  {
   "cell_type": "code",
   "execution_count": 13,
   "metadata": {
    "colab": {
     "base_uri": "https://localhost:8080/",
     "height": 35
    },
    "colab_type": "code",
    "executionInfo": {
     "elapsed": 444,
     "status": "ok",
     "timestamp": 1566847566942,
     "user": {
      "displayName": "Adam Eubanks",
      "photoUrl": "https://lh3.googleusercontent.com/a-/AAuE7mDjwE097euDwbWe6DLsA9jrqnIHFFDD2-2g5QsSdA=s64",
      "userId": "14853192264485050012"
     },
     "user_tz": 240
    },
    "id": "TN4oDc9B7P1J",
    "outputId": "1f7d9f47-3641-420c-b592-a69a8fc66efc"
   },
   "outputs": [
    {
     "name": "stdout",
     "output_type": "stream",
     "text": [
      "[[16630.69]]\n"
     ]
    }
   ],
   "source": [
    "test_data = np.array([2003,854,1710,2,1,3,8,2008])\n",
    "print(model.predict(test_data.reshape(1,8), batch_size=1))"
   ]
  },
  {
   "cell_type": "markdown",
   "metadata": {
    "colab_type": "text",
    "id": "xKc75rpJWjmd"
   },
   "source": [
    "**to save this model for later use **"
   ]
  },
  {
   "cell_type": "code",
   "execution_count": 14,
   "metadata": {
    "colab": {
     "base_uri": "https://localhost:8080/",
     "height": 35
    },
    "colab_type": "code",
    "executionInfo": {
     "elapsed": 1408,
     "status": "ok",
     "timestamp": 1566847570830,
     "user": {
      "displayName": "Adam Eubanks",
      "photoUrl": "https://lh3.googleusercontent.com/a-/AAuE7mDjwE097euDwbWe6DLsA9jrqnIHFFDD2-2g5QsSdA=s64",
      "userId": "14853192264485050012"
     },
     "user_tz": 240
    },
    "id": "1ENSyN8_Vm9q",
    "outputId": "e9bba4d8-0893-41e9-ccfd-5c95bf8170c8"
   },
   "outputs": [
    {
     "name": "stdout",
     "output_type": "stream",
     "text": [
      "HousingPrices.csv     HousingPricesNN.ipynb saved_model.h5\r\n"
     ]
    }
   ],
   "source": [
    "model.save('saved_model.h5')\n",
    "!ls"
   ]
  },
  {
   "cell_type": "markdown",
   "metadata": {
    "colab_type": "text",
    "id": "A_pf1cP5WuMf"
   },
   "source": [
    "**to load the model**"
   ]
  },
  {
   "cell_type": "code",
   "execution_count": 15,
   "metadata": {
    "colab": {
     "base_uri": "https://localhost:8080/",
     "height": 35
    },
    "colab_type": "code",
    "executionInfo": {
     "elapsed": 1051,
     "status": "ok",
     "timestamp": 1566847574130,
     "user": {
      "displayName": "Adam Eubanks",
      "photoUrl": "https://lh3.googleusercontent.com/a-/AAuE7mDjwE097euDwbWe6DLsA9jrqnIHFFDD2-2g5QsSdA=s64",
      "userId": "14853192264485050012"
     },
     "user_tz": 240
    },
    "id": "-rQDU4m8u-gv",
    "outputId": "23379577-3733-4a48-a0a0-d7012bc97634"
   },
   "outputs": [
    {
     "name": "stdout",
     "output_type": "stream",
     "text": [
      "[[16630.69]]\n"
     ]
    }
   ],
   "source": [
    "old_model = keras.models.load_model('saved_model.h5')\n",
    "\n",
    "test_data = np.array([2003,854,1710, 2,1,3,8,2008])\n",
    "print(old_model.predict(test_data.reshape(1,8), batch_size=1))"
   ]
  },
  {
   "cell_type": "code",
   "execution_count": null,
   "metadata": {
    "colab": {},
    "colab_type": "code",
    "id": "FITKFhppZJvv"
   },
   "outputs": [],
   "source": []
  }
 ],
 "metadata": {
  "colab": {
   "collapsed_sections": [],
   "name": "HousingPricesNN.ipynb",
   "provenance": [],
   "version": "0.3.2"
  },
  "kernelspec": {
   "display_name": "Python 3",
   "language": "python",
   "name": "python3"
  },
  "language_info": {
   "codemirror_mode": {
    "name": "ipython",
    "version": 3
   },
   "file_extension": ".py",
   "mimetype": "text/x-python",
   "name": "python",
   "nbconvert_exporter": "python",
   "pygments_lexer": "ipython3",
   "version": "3.8.4"
  }
 },
 "nbformat": 4,
 "nbformat_minor": 4
}
