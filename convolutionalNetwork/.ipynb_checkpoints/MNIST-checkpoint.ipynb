{
 "cells": [
  {
   "cell_type": "markdown",
   "metadata": {
    "colab_type": "text",
    "id": "cw4CCpLz2Ir6"
   },
   "source": [
    "**import keras and load dataset.**"
   ]
  },
  {
   "cell_type": "code",
   "execution_count": 1,
   "metadata": {
    "colab": {
     "base_uri": "https://localhost:8080/",
     "height": 71
    },
    "colab_type": "code",
    "executionInfo": {
     "elapsed": 2648,
     "status": "ok",
     "timestamp": 1566847598791,
     "user": {
      "displayName": "Adam Eubanks",
      "photoUrl": "https://lh3.googleusercontent.com/a-/AAuE7mDjwE097euDwbWe6DLsA9jrqnIHFFDD2-2g5QsSdA=s64",
      "userId": "14853192264485050012"
     },
     "user_tz": 240
    },
    "id": "Jd9C-iHvQ6kW",
    "outputId": "017ad4c9-6469-4daa-c86a-d029c0f0d19b"
   },
   "outputs": [],
   "source": [
    "import keras\n",
    "mnist = keras.datasets.mnist\n",
    "(x_train, y_train), (x_test, y_test) = mnist.load_data()"
   ]
  },
  {
   "cell_type": "code",
   "execution_count": 2,
   "metadata": {},
   "outputs": [
    {
     "name": "stdout",
     "output_type": "stream",
     "text": [
      "(60000, 28, 28)\n"
     ]
    },
    {
     "data": {
      "text/plain": [
       "array([  0,   0,   0,   0,   0,   0,   0,   0,   0,   0,   0,   0,   3,\n",
       "        18,  18,  18, 126, 136, 175,  26, 166, 255, 247, 127,   0,   0,\n",
       "         0,   0], dtype=uint8)"
      ]
     },
     "execution_count": 2,
     "metadata": {},
     "output_type": "execute_result"
    }
   ],
   "source": [
    "print (x_train.shape)\n",
    "x_train[0][5]"
   ]
  },
  {
   "cell_type": "code",
   "execution_count": 3,
   "metadata": {},
   "outputs": [
    {
     "name": "stdout",
     "output_type": "stream",
     "text": [
      "(60000, 28, 28, 1)\n",
      "[0]\n"
     ]
    }
   ],
   "source": [
    "x1 = x_train.reshape(x_train.shape[0], 28,28,1)\n",
    "print (x1.shape)\n",
    "print (x1[0][0][0])"
   ]
  },
  {
   "cell_type": "code",
   "execution_count": 39,
   "metadata": {},
   "outputs": [
    {
     "data": {
      "text/plain": [
       "(10000, 28, 28)"
      ]
     },
     "execution_count": 39,
     "metadata": {},
     "output_type": "execute_result"
    }
   ],
   "source": [
    "x_test.shape"
   ]
  },
  {
   "cell_type": "markdown",
   "metadata": {
    "colab_type": "text",
    "id": "ecs0ET-k2v65"
   },
   "source": [
    "**Import matplotlib and see what the data looks like**"
   ]
  },
  {
   "cell_type": "code",
   "execution_count": 4,
   "metadata": {
    "colab": {
     "base_uri": "https://localhost:8080/",
     "height": 287
    },
    "colab_type": "code",
    "executionInfo": {
     "elapsed": 625,
     "status": "ok",
     "timestamp": 1566847604528,
     "user": {
      "displayName": "Adam Eubanks",
      "photoUrl": "https://lh3.googleusercontent.com/a-/AAuE7mDjwE097euDwbWe6DLsA9jrqnIHFFDD2-2g5QsSdA=s64",
      "userId": "14853192264485050012"
     },
     "user_tz": 240
    },
    "id": "oJeyAH802pPv",
    "outputId": "ae85438d-269e-425d-99b5-f3b2e19ef6d8"
   },
   "outputs": [
    {
     "data": {
      "image/png": "[encoded data removed]",
      "text/plain": [
       "<Figure size 432x288 with 1 Axes>"
      ]
     },
     "metadata": {
      "needs_background": "light"
     },
     "output_type": "display_data"
    },
    {
     "name": "stdout",
     "output_type": "stream",
     "text": [
      "0\n"
     ]
    }
   ],
   "source": [
    "import matplotlib.pyplot as plt\n",
    "plt.imshow(x_train[1]) #training image\n",
    "plt.show()\n",
    "print(y_train[1]) #what the number is supposed to be"
   ]
  },
  {
   "cell_type": "markdown",
   "metadata": {
    "colab_type": "text",
    "id": "d7PcC6_o3NZk"
   },
   "source": [
    "**Next, we need to break the data down so that the neural network can digest it easier.**"
   ]
  },
  {
   "cell_type": "code",
   "execution_count": 5,
   "metadata": {
    "colab": {},
    "colab_type": "code",
    "id": "Uf98legWy-yf"
   },
   "outputs": [
    {
     "name": "stdout",
     "output_type": "stream",
     "text": [
      "(60000, 28, 28)\n",
      "(60000, 28, 28, 1)\n"
     ]
    }
   ],
   "source": [
    "#Reshape the data\n",
    "print (x_train.shape)\n",
    "x_train = x_train.reshape(x_train.shape[0], 28, 28, 1)\n",
    "print (x_train.shape)\n",
    "x_test = x_test.reshape(x_test.shape[0], 28, 28, 1)\n",
    "input_shape = (28, 28, 1)\n",
    "\n",
    "#Normalize the pixel values from a scale out of 255 to a scale out of 1\n",
    "x_train = x_train.astype('float32')\n",
    "x_test = x_test.astype('float32')\n",
    "x_train /= 255\n",
    "x_test /= 255"
   ]
  },
  {
   "cell_type": "markdown",
   "metadata": {
    "colab_type": "text",
    "id": "KoRdc4BG3x0f"
   },
   "source": [
    "**convert y values (numbers) into ones and zeros**"
   ]
  },
  {
   "cell_type": "code",
   "execution_count": 6,
   "metadata": {
    "colab": {
     "base_uri": "https://localhost:8080/",
     "height": 1000
    },
    "colab_type": "code",
    "executionInfo": {
     "elapsed": 556,
     "status": "ok",
     "timestamp": 1566847842445,
     "user": {
      "displayName": "Adam Eubanks",
      "photoUrl": "https://lh3.googleusercontent.com/a-/AAuE7mDjwE097euDwbWe6DLsA9jrqnIHFFDD2-2g5QsSdA=s64",
      "userId": "14853192264485050012"
     },
     "user_tz": 240
    },
    "id": "z3OWzdb3zPue",
    "outputId": "cd791a73-9cd2-47dd-ce8f-82e386fa0f90"
   },
   "outputs": [
    {
     "name": "stdout",
     "output_type": "stream",
     "text": [
      "5\n",
      "[0. 0. 0. 0. 0. 1. 0. 0. 0. 0.]\n"
     ]
    }
   ],
   "source": [
    "print(y_train[0])\n",
    "\n",
    "y_train = keras.utils.to_categorical(y_train, 10)\n",
    "y_test = keras.utils.to_categorical(y_test, 10)\n",
    "\n",
    "print(y_train[0])"
   ]
  },
  {
   "cell_type": "markdown",
   "metadata": {
    "colab_type": "text",
    "id": "c2s2RVUx6HDz"
   },
   "source": [
    "**build a seven-layer convolutional neural network. Each layer is a different type of neuron.**"
   ]
  },
  {
   "cell_type": "code",
   "execution_count": 7,
   "metadata": {
    "colab": {
     "base_uri": "https://localhost:8080/",
     "height": 289
    },
    "colab_type": "code",
    "executionInfo": {
     "elapsed": 531,
     "status": "ok",
     "timestamp": 1566847977274,
     "user": {
      "displayName": "Adam Eubanks",
      "photoUrl": "https://lh3.googleusercontent.com/a-/AAuE7mDjwE097euDwbWe6DLsA9jrqnIHFFDD2-2g5QsSdA=s64",
      "userId": "14853192264485050012"
     },
     "user_tz": 240
    },
    "id": "q29QKMVSQ_92",
    "outputId": "6a97bbc9-b151-470a-a99e-14680c25fffc"
   },
   "outputs": [
    {
     "name": "stdout",
     "output_type": "stream",
     "text": [
      "(None, 26, 26, 32)\n",
      "(None, 24, 24, 64)\n",
      "(None, 12, 12, 64)\n",
      "(None, 12, 12, 64)\n",
      "(None, 9216)\n",
      "(None, 128)\n",
      "(None, 128)\n",
      "(None, 10)\n"
     ]
    }
   ],
   "source": [
    "model = keras.models.Sequential()\n",
    "model.add(keras.layers.Conv2D(32, kernel_size=(3, 3), activation='relu',\n",
    "                              input_shape=input_shape))\n",
    "print(model.output_shape)\n",
    "model.add(keras.layers.Conv2D(64, (3, 3), activation='relu'))\n",
    "print(model.output_shape)\n",
    "model.add(keras.layers.MaxPooling2D(pool_size=(2, 2)))\n",
    "print(model.output_shape)\n",
    "model.add(keras.layers.Dropout(0.25))\n",
    "print(model.output_shape)\n",
    "model.add(keras.layers.Flatten())\n",
    "print(model.output_shape)\n",
    "model.add(keras.layers.Dense(128, activation='relu'))\n",
    "print(model.output_shape)\n",
    "model.add(keras.layers.Dropout(0.5))\n",
    "print(model.output_shape)\n",
    "model.add(keras.layers.Dense(10, activation='softmax'))\n",
    "print(model.output_shape)"
   ]
  },
  {
   "cell_type": "code",
   "execution_count": 8,
   "metadata": {},
   "outputs": [
    {
     "name": "stdout",
     "output_type": "stream",
     "text": [
      "Model: \"sequential\"\n",
      "_________________________________________________________________\n",
      "Layer (type)                 Output Shape              Param #   \n",
      "=================================================================\n",
      "conv2d (Conv2D)              (None, 26, 26, 32)        320       \n",
      "_________________________________________________________________\n",
      "conv2d_1 (Conv2D)            (None, 24, 24, 64)        18496     \n",
      "_________________________________________________________________\n",
      "max_pooling2d (MaxPooling2D) (None, 12, 12, 64)        0         \n",
      "_________________________________________________________________\n",
      "dropout (Dropout)            (None, 12, 12, 64)        0         \n",
      "_________________________________________________________________\n",
      "flatten (Flatten)            (None, 9216)              0         \n",
      "_________________________________________________________________\n",
      "dense (Dense)                (None, 128)               1179776   \n",
      "_________________________________________________________________\n",
      "dropout_1 (Dropout)          (None, 128)               0         \n",
      "_________________________________________________________________\n",
      "dense_1 (Dense)              (None, 10)                1290      \n",
      "=================================================================\n",
      "Total params: 1,199,882\n",
      "Trainable params: 1,199,882\n",
      "Non-trainable params: 0\n",
      "_________________________________________________________________\n"
     ]
    }
   ],
   "source": [
    "model.summary()"
   ]
  },
  {
   "cell_type": "markdown",
   "metadata": {
    "colab_type": "text",
    "id": "YPT1WgLf6tcH"
   },
   "source": [
    "**train the model**"
   ]
  },
  {
   "cell_type": "code",
   "execution_count": null,
   "metadata": {
    "colab": {},
    "colab_type": "code",
    "id": "bNvM_k_m1MPF"
   },
   "outputs": [
    {
     "name": "stdout",
     "output_type": "stream",
     "text": [
      "146/469 [========>.....................] - ETA: 1:40 - loss: 2.2942 - accuracy: 0.1168"
     ]
    }
   ],
   "source": [
    "model.compile(loss=keras.losses.categorical_crossentropy,\n",
    "              optimizer=keras.optimizers.Adadelta(),\n",
    "              metrics=['accuracy'])\n",
    "\n",
    "model.fit(x_train, y_train,\n",
    "          batch_size=128,\n",
    "          epochs=1,\n",
    "          validation_data=(x_test, y_test))"
   ]
  },
  {
   "cell_type": "markdown",
   "metadata": {
    "colab_type": "text",
    "id": "fV-tE9jI7PJd"
   },
   "source": [
    "**run the model on the test data. The first number is the loss and the second number is the accuracy out of 1.**"
   ]
  },
  {
   "cell_type": "code",
   "execution_count": 17,
   "metadata": {
    "colab": {
     "base_uri": "https://localhost:8080/",
     "height": 35
    },
    "colab_type": "code",
    "executionInfo": {
     "elapsed": 6182,
     "status": "ok",
     "timestamp": 1562962813028,
     "user": {
      "displayName": "Adam Eubanks",
      "photoUrl": "https://lh3.googleusercontent.com/-3ErEfX8LneA/AAAAAAAAAAI/AAAAAAAAJXQ/UgP90W3bjV0/s64/photo.jpg",
      "userId": "14853192264485050012"
     },
     "user_tz": 240
    },
    "id": "oulwHbLkXoyd",
    "outputId": "13c4139d-6694-4b27-959f-c26e352dba04"
   },
   "outputs": [
    {
     "name": "stdout",
     "output_type": "stream",
     "text": [
      "313/313 [==============================] - 15s 47ms/step - loss: 0.7835 - accuracy: 0.8408\n",
      "[0.7834557890892029, 0.8407999873161316]\n"
     ]
    }
   ],
   "source": [
    "print(model.evaluate(x_test, y_test))"
   ]
  },
  {
   "cell_type": "code",
   "execution_count": null,
   "metadata": {},
   "outputs": [],
   "source": []
  }
 ],
 "metadata": {
  "colab": {
   "collapsed_sections": [],
   "name": "MNIST.ipynb",
   "provenance": [],
   "version": "0.3.2"
  },
  "kernelspec": {
   "display_name": "Python 3",
   "language": "python",
   "name": "python3"
  },
  "language_info": {
   "codemirror_mode": {
    "name": "ipython",
    "version": 3
   },
   "file_extension": ".py",
   "mimetype": "text/x-python",
   "name": "python",
   "nbconvert_exporter": "python",
   "pygments_lexer": "ipython3",
   "version": "3.8.4"
  }
 },
 "nbformat": 4,
 "nbformat_minor": 4
}
