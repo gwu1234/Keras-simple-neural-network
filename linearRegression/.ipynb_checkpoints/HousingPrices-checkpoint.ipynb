{
 "cells": [
  {
   "cell_type": "markdown",
   "metadata": {
    "colab_type": "text",
    "id": "tD-0aWryjJss"
   },
   "source": [
    "**import dependencies.**"
   ]
  },
  {
   "cell_type": "code",
   "execution_count": 1,
   "metadata": {
    "colab": {
     "base_uri": "https://localhost:8080/",
     "height": 35
    },
    "colab_type": "code",
    "executionInfo": {
     "elapsed": 2686,
     "status": "ok",
     "timestamp": 1566847160193,
     "user": {
      "displayName": "Adam Eubanks",
      "photoUrl": "https://lh3.googleusercontent.com/a-/AAuE7mDjwE097euDwbWe6DLsA9jrqnIHFFDD2-2g5QsSdA=s64",
      "userId": "14853192264485050012"
     },
     "user_tz": 240
    },
    "id": "LkdwJ2B-fqxM",
    "outputId": "d5c9677c-3e64-4e96-9924-dd3942d4d31b"
   },
   "outputs": [],
   "source": [
    "import keras\n",
    "import numpy as np \n",
    "import pandas as pd\n",
    "import matplotlib.pyplot as plt "
   ]
  },
  {
   "cell_type": "markdown",
   "metadata": {
    "colab_type": "text",
    "id": "7KEox7eljzkI"
   },
   "source": [
    "**import data**"
   ]
  },
  {
   "cell_type": "code",
   "execution_count": 2,
   "metadata": {
    "colab": {
     "base_uri": "https://localhost:8080/",
     "height": 127
    },
    "colab_type": "code",
    "executionInfo": {
     "elapsed": 200634,
     "status": "ok",
     "timestamp": 1566847361694,
     "user": {
      "displayName": "Adam Eubanks",
      "photoUrl": "https://lh3.googleusercontent.com/a-/AAuE7mDjwE097euDwbWe6DLsA9jrqnIHFFDD2-2g5QsSdA=s64",
      "userId": "14853192264485050012"
     },
     "user_tz": 240
    },
    "id": "Jd2ubOLMffya",
    "outputId": "955d416f-4d55-4b80-9d57-de3786e67d6c"
   },
   "outputs": [],
   "source": [
    "df=pd.read_csv('./HousingPrices.csv')"
   ]
  },
  {
   "cell_type": "markdown",
   "metadata": {
    "colab_type": "text",
    "id": "OF40XIrlkWKU"
   },
   "source": [
    "**separate two columns: squareFeet is x and salePrice is y value.**"
   ]
  },
  {
   "cell_type": "code",
   "execution_count": 3,
   "metadata": {
    "colab": {},
    "colab_type": "code",
    "id": "Q7hvGcL9fs05"
   },
   "outputs": [],
   "source": [
    "squareFeet = df[['SquareFeet']].values\n",
    "salePrice = df[['SalePrice']].values "
   ]
  },
  {
   "cell_type": "code",
   "execution_count": 4,
   "metadata": {},
   "outputs": [
    {
     "data": {
      "text/plain": [
       "array([[1710],\n",
       "       [1262],\n",
       "       [1786],\n",
       "       ...,\n",
       "       [2340],\n",
       "       [1078],\n",
       "       [1256]])"
      ]
     },
     "execution_count": 4,
     "metadata": {},
     "output_type": "execute_result"
    }
   ],
   "source": [
    "squareFeet"
   ]
  },
  {
   "cell_type": "code",
   "execution_count": 32,
   "metadata": {},
   "outputs": [
    {
     "data": {
      "text/plain": [
       "array([1710])"
      ]
     },
     "execution_count": 32,
     "metadata": {},
     "output_type": "execute_result"
    }
   ],
   "source": [
    "squareFeet[0]"
   ]
  },
  {
   "cell_type": "markdown",
   "metadata": {
    "colab_type": "text",
    "id": "6NQFW1Ibk-QP"
   },
   "source": [
    "**create a model: one layer with one neuron**"
   ]
  },
  {
   "cell_type": "code",
   "execution_count": 5,
   "metadata": {},
   "outputs": [
    {
     "data": {
      "text/plain": [
       "array([[208500],\n",
       "       [181500],\n",
       "       [223500],\n",
       "       ...,\n",
       "       [266500],\n",
       "       [142125],\n",
       "       [147500]])"
      ]
     },
     "execution_count": 5,
     "metadata": {},
     "output_type": "execute_result"
    }
   ],
   "source": [
    "salePrice"
   ]
  },
  {
   "cell_type": "code",
   "execution_count": 5,
   "metadata": {
    "cellView": "both",
    "colab": {
     "base_uri": "https://localhost:8080/",
     "height": 1000
    },
    "colab_type": "code",
    "executionInfo": {
     "elapsed": 5840,
     "status": "ok",
     "timestamp": 1566847381595,
     "user": {
      "displayName": "Adam Eubanks",
      "photoUrl": "https://lh3.googleusercontent.com/a-/AAuE7mDjwE097euDwbWe6DLsA9jrqnIHFFDD2-2g5QsSdA=s64",
      "userId": "14853192264485050012"
     },
     "user_tz": 240
    },
    "id": "InGFMOaqg2Y0",
    "outputId": "8617f6a9-0787-41c2-850e-e1a4365b78be"
   },
   "outputs": [
    {
     "name": "stdout",
     "output_type": "stream",
     "text": [
      "Epoch 1/10\n",
      "146/146 [==============================] - 0s 1ms/step - loss: 14443134976.0000\n",
      "Epoch 2/10\n",
      "146/146 [==============================] - 0s 721us/step - loss: 3325032960.0000\n",
      "Epoch 3/10\n",
      "146/146 [==============================] - 0s 728us/step - loss: 3184584960.0000\n",
      "Epoch 4/10\n",
      "146/146 [==============================] - 0s 792us/step - loss: 3185572864.0000\n",
      "Epoch 5/10\n",
      "146/146 [==============================] - 0s 798us/step - loss: 3193986560.0000\n",
      "Epoch 6/10\n",
      "146/146 [==============================] - 0s 675us/step - loss: 3202328832.0000\n",
      "Epoch 7/10\n",
      "146/146 [==============================] - 0s 729us/step - loss: 3195854336.0000\n",
      "Epoch 8/10\n",
      "146/146 [==============================] - 0s 812us/step - loss: 3209101056.0000\n",
      "Epoch 9/10\n",
      "146/146 [==============================] - 0s 1ms/step - loss: 3183915520.0000\n",
      "Epoch 10/10\n",
      "146/146 [==============================] - 0s 946us/step - loss: 3199868160.0000\n"
     ]
    },
    {
     "data": {
      "text/plain": [
       "<tensorflow.python.keras.callbacks.History at 0x141bc4760>"
      ]
     },
     "execution_count": 5,
     "metadata": {},
     "output_type": "execute_result"
    }
   ],
   "source": [
    "model = keras.Sequential()\n",
    "model.add(keras.layers.Dense(1, input_shape=(1,)))\n",
    "model.compile(keras.optimizers.Adam(lr=1), 'mean_squared_error')\n",
    "\n",
    "model.fit(squareFeet,salePrice, epochs=10, batch_size=10)"
   ]
  },
  {
   "cell_type": "markdown",
   "metadata": {
    "colab_type": "text",
    "id": "NVV5n1T1lkR8"
   },
   "source": [
    "**plot our data and the regression line.**"
   ]
  },
  {
   "cell_type": "code",
   "execution_count": 6,
   "metadata": {
    "colab": {
     "base_uri": "https://localhost:8080/",
     "height": 313
    },
    "colab_type": "code",
    "executionInfo": {
     "elapsed": 819,
     "status": "ok",
     "timestamp": 1566847386399,
     "user": {
      "displayName": "Adam Eubanks",
      "photoUrl": "https://lh3.googleusercontent.com/a-/AAuE7mDjwE097euDwbWe6DLsA9jrqnIHFFDD2-2g5QsSdA=s64",
      "userId": "14853192264485050012"
     },
     "user_tz": 240
    },
    "id": "SfYnnUJwhWL-",
    "outputId": "05e4a7ef-00d7-473f-ca60-c720c033caa6"
   },
   "outputs": [
    {
     "data": {
      "text/plain": [
       "[<matplotlib.lines.Line2D at 0x1422f41c0>]"
      ]
     },
     "execution_count": 6,
     "metadata": {},
     "output_type": "execute_result"
    },
    {
     "data": {
      "image/png": "[encoded data removed]",
      "text/plain": [
       "<Figure size 432x288 with 1 Axes>"
      ]
     },
     "metadata": {
      "needs_background": "light"
     },
     "output_type": "display_data"
    }
   ],
   "source": [
    "#datapoints\n",
    "df.plot(kind='scatter',\n",
    "       x='SquareFeet',\n",
    "       y='SalePrice', title='Housing Prices and Square Footage of Iowa Homes')\n",
    "\n",
    "#The predicted housing price based on square feet\n",
    "y_pred = model.predict(squareFeet) \n",
    "\n",
    "#regression line\n",
    "plt.plot(squareFeet, y_pred, color='red')"
   ]
  },
  {
   "cell_type": "markdown",
   "metadata": {
    "colab_type": "text",
    "id": "FDOmCNKcmU20"
   },
   "source": [
    "**predict the price of a new house**"
   ]
  },
  {
   "cell_type": "code",
   "execution_count": 7,
   "metadata": {
    "colab": {
     "base_uri": "https://localhost:8080/",
     "height": 35
    },
    "colab_type": "code",
    "executionInfo": {
     "elapsed": 361,
     "status": "ok",
     "timestamp": 1566847389542,
     "user": {
      "displayName": "Adam Eubanks",
      "photoUrl": "https://lh3.googleusercontent.com/a-/AAuE7mDjwE097euDwbWe6DLsA9jrqnIHFFDD2-2g5QsSdA=s64",
      "userId": "14853192264485050012"
     },
     "user_tz": 240
    },
    "id": "h8HFaO3Ii6dL",
    "outputId": "d01392ca-a0a8-489e-f8a0-255c2d3a02bf"
   },
   "outputs": [
    {
     "name": "stdout",
     "output_type": "stream",
     "text": [
      "[[238687.75]]\n"
     ]
    }
   ],
   "source": [
    "newSF = 2000\n",
    "print(model.predict([newSF]))"
   ]
  },
  {
   "cell_type": "code",
   "execution_count": null,
   "metadata": {
    "colab": {},
    "colab_type": "code",
    "id": "GPQCG8_TYc0V"
   },
   "outputs": [],
   "source": []
  }
 ],
 "metadata": {
  "colab": {
   "collapsed_sections": [],
   "name": "HousingPrices.ipynb",
   "provenance": [],
   "version": "0.3.2"
  },
  "kernelspec": {
   "display_name": "Python 3",
   "language": "python",
   "name": "python3"
  },
  "language_info": {
   "codemirror_mode": {
    "name": "ipython",
    "version": 3
   },
   "file_extension": ".py",
   "mimetype": "text/x-python",
   "name": "python",
   "nbconvert_exporter": "python",
   "pygments_lexer": "ipython3",
   "version": "3.8.4"
  }
 },
 "nbformat": 4,
 "nbformat_minor": 4
}
